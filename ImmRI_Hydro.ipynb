{
 "cells": [
  {
   "cell_type": "code",
   "execution_count": 1,
   "metadata": {},
   "outputs": [],
   "source": [
    "import OMPython\n",
    "from OMPython import OMCSessionZMQ"
   ]
  },
  {
   "cell_type": "code",
   "execution_count": 2,
   "metadata": {},
   "outputs": [],
   "source": [
    "omc = OMCSessionZMQ()"
   ]
  },
  {
   "cell_type": "code",
   "execution_count": 3,
   "metadata": {},
   "outputs": [
    {
     "data": {
      "text/plain": [
       "'OpenModelica v1.16.2 (64-bit)'"
      ]
     },
     "execution_count": 3,
     "metadata": {},
     "output_type": "execute_result"
    }
   ],
   "source": [
    "omc.sendExpression(\"getVersion()\")"
   ]
  },
  {
   "cell_type": "code",
   "execution_count": 4,
   "metadata": {},
   "outputs": [
    {
     "data": {
      "text/plain": [
       "'C:/Users/uapug'"
      ]
     },
     "execution_count": 4,
     "metadata": {},
     "output_type": "execute_result"
    }
   ],
   "source": [
    "omc.sendExpression(\"cd()\")"
   ]
  },
  {
   "cell_type": "code",
   "execution_count": 5,
   "metadata": {},
   "outputs": [
    {
     "data": {
      "text/plain": [
       "True"
      ]
     },
     "execution_count": 5,
     "metadata": {},
     "output_type": "execute_result"
    }
   ],
   "source": [
    "omc.sendExpression(\"loadModel(Modelica)\")"
   ]
  },
  {
   "cell_type": "code",
   "execution_count": 6,
   "metadata": {},
   "outputs": [
    {
     "data": {
      "text/plain": [
       "True"
      ]
     },
     "execution_count": 6,
     "metadata": {},
     "output_type": "execute_result"
    }
   ],
   "source": [
    "omc.sendExpression(\"loadFile(getInstallationDirectoryPath() + \\\"/share/doc/omc/testmodels/Disinfection.mo\\\")\")"
   ]
  },
  {
   "cell_type": "code",
   "execution_count": 7,
   "metadata": {},
   "outputs": [
    {
     "data": {
      "text/plain": [
       "'class Disinfection\\n  Real N(start = 1000.0);\\n  Real C(start = 0.3) \"mg/L\";\\n  constant Real lamda_CW = 0.0017 \" s*mg/L)^-1\";\\n  constant Real k_growth = 3.3e-005 \"1/s\";\\n  constant Real k_decay = 0.00017 \"1/s\";\\ninitial equation\\n  N = 1000.0;\\n  C = 0.3;\\nequation\\n  der(C) = (-0.00017) * C;\\n  if C >= 0.01 then\\n    der(N) = (-0.0017) * C * N;\\n  else\\n    der(N) = 3.3e-005 * N;\\n  end if;\\nend Disinfection;\\n'"
      ]
     },
     "execution_count": 7,
     "metadata": {},
     "output_type": "execute_result"
    }
   ],
   "source": [
    "omc.sendExpression(\"instantiateModel(Disinfection)\")"
   ]
  },
  {
   "cell_type": "code",
   "execution_count": 8,
   "metadata": {},
   "outputs": [],
   "source": [
    "cmds = [\n",
    "  'loadFile(getInstallationDirectoryPath() + \"/share/doc/omc/testmodels/Disinfection.mo\")',\n",
    "  \"simulate(Disinfection)\",\n",
    "  \"plot(der(C))\"\n",
    "  ]"
   ]
  },
  {
   "cell_type": "markdown",
   "metadata": {},
   "source": [
    "cmds"
   ]
  },
  {
   "cell_type": "code",
   "execution_count": 9,
   "metadata": {},
   "outputs": [
    {
     "data": {
      "text/plain": [
       "['loadFile(getInstallationDirectoryPath() + \"/share/doc/omc/testmodels/Disinfection.mo\")',\n",
       " 'simulate(Disinfection)',\n",
       " 'plot(der(C))']"
      ]
     },
     "execution_count": 9,
     "metadata": {},
     "output_type": "execute_result"
    }
   ],
   "source": [
    "cmds"
   ]
  },
  {
   "cell_type": "code",
   "execution_count": 10,
   "metadata": {},
   "outputs": [
    {
     "name": "stdout",
     "output_type": "stream",
     "text": [
      "\n",
      "loadFile(getInstallationDirectoryPath() + \"/share/doc/omc/testmodels/Disinfection.mo\"):\n",
      "True\n",
      "\n",
      "simulate(Disinfection):\n",
      "{'resultFile': 'C:/Users/uapug/Disinfection_res.mat', 'simulationOptions': \"startTime = 0.0, stopTime = 1.0, numberOfIntervals = 500, tolerance = 1e-006, method = 'dassl', fileNamePrefix = 'Disinfection', options = '', outputFormat = 'mat', variableFilter = '.*', cflags = '', simflags = ''\", 'messages': 'LOG_SUCCESS       | info    | The initialization finished successfully without homotopy method.\\nLOG_SUCCESS       | info    | The simulation finished successfully.\\n', 'timeFrontend': 0.5812588, 'timeBackend': 0.0307314, 'timeSimCode': 0.0077575, 'timeTemplates': 0.1028909, 'timeCompile': 20.023261, 'timeSimulation': 0.4689131, 'timeTotal': 21.2181127}\n",
      "\n",
      "plot(der(C)):\n",
      "True\n"
     ]
    }
   ],
   "source": [
    "for cmd in cmds:\n",
    "    answer = omc.sendExpression(cmd)\n",
    "    print(\"\\n{}:\\n{}\".format(cmd, answer))"
   ]
  },
  {
   "cell_type": "code",
   "execution_count": null,
   "metadata": {},
   "outputs": [],
   "source": []
  }
 ],
 "metadata": {
  "kernelspec": {
   "display_name": "Python 3",
   "language": "python",
   "name": "python3"
  },
  "language_info": {
   "codemirror_mode": {
    "name": "ipython",
    "version": 3
   },
   "file_extension": ".py",
   "mimetype": "text/x-python",
   "name": "python",
   "nbconvert_exporter": "python",
   "pygments_lexer": "ipython3",
   "version": "3.7.6"
  }
 },
 "nbformat": 4,
 "nbformat_minor": 4
}
