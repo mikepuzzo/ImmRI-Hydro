{
 "cells": [
  {
   "cell_type": "code",
   "execution_count": 1,
   "metadata": {},
   "outputs": [],
   "source": [
    "import OMPython\n",
    "from OMPython import OMCSessionZMQ"
   ]
  },
  {
   "cell_type": "code",
   "execution_count": 2,
   "metadata": {},
   "outputs": [],
   "source": [
    "omc = OMCSessionZMQ()"
   ]
  },
  {
   "cell_type": "code",
   "execution_count": 3,
   "metadata": {},
   "outputs": [
    {
     "data": {
      "text/plain": [
       "'OpenModelica v1.16.2 (64-bit)'"
      ]
     },
     "execution_count": 3,
     "metadata": {},
     "output_type": "execute_result"
    }
   ],
   "source": [
    "omc.sendExpression(\"getVersion()\")"
   ]
  },
  {
   "cell_type": "code",
   "execution_count": 4,
   "metadata": {},
   "outputs": [
    {
     "data": {
      "text/plain": [
       "'C:/Users/uapug'"
      ]
     },
     "execution_count": 4,
     "metadata": {},
     "output_type": "execute_result"
    }
   ],
   "source": [
    "omc.sendExpression(\"cd()\")"
   ]
  },
  {
   "cell_type": "code",
   "execution_count": 5,
   "metadata": {},
   "outputs": [
    {
     "data": {
      "text/plain": [
       "True"
      ]
     },
     "execution_count": 5,
     "metadata": {},
     "output_type": "execute_result"
    }
   ],
   "source": [
    "omc.sendExpression(\"loadModel(Modelica)\")"
   ]
  },
  {
   "cell_type": "code",
   "execution_count": 6,
   "metadata": {},
   "outputs": [
    {
     "data": {
      "text/plain": [
       "True"
      ]
     },
     "execution_count": 6,
     "metadata": {},
     "output_type": "execute_result"
    }
   ],
   "source": [
    "omc.sendExpression(\"loadFile(getInstallationDirectoryPath() + \\\"/share/doc/omc/testmodels/Disinfection.mo\\\")\")"
   ]
  },
  {
   "cell_type": "code",
   "execution_count": 7,
   "metadata": {},
   "outputs": [
    {
     "data": {
      "text/plain": [
       "'class Disinfection\\n  Real N(start = 1000.0);\\n  Real C(start = 0.3) \"mg/L\";\\n  constant Real lamda_CW = 0.0017 \" s*mg/L)^-1\";\\n  constant Real k_growth = 3.3e-005 \"1/s\";\\n  constant Real k_decay = 0.00017 \"1/s\";\\ninitial equation\\n  N = 1000.0;\\n  C = 0.3;\\nequation\\n  der(C) = (-0.00017) * C;\\n  if C >= 0.01 then\\n    der(N) = (-0.0017) * C * N;\\n  else\\n    der(N) = 3.3e-005 * N;\\n  end if;\\nend Disinfection;\\n'"
      ]
     },
     "execution_count": 7,
     "metadata": {},
     "output_type": "execute_result"
    }
   ],
   "source": [
    "omc.sendExpression(\"instantiateModel(Disinfection)\")"
   ]
  },
  {
   "cell_type": "code",
   "execution_count": 8,
   "metadata": {},
   "outputs": [],
   "source": [
    "cmds = [\n",
    "  'loadFile(getInstallationDirectoryPath() + \"/share/doc/omc/testmodels/Disinfection.mo\")',\n",
    "  \"simulate(Disinfection)\",\n",
    "  \"plot(der(C))\"\n",
    "  ]"
   ]
  },
  {
   "cell_type": "markdown",
   "metadata": {},
   "source": [
    "cmds"
   ]
  },
  {
   "cell_type": "code",
   "execution_count": 9,
   "metadata": {},
   "outputs": [
    {
     "data": {
      "text/plain": [
       "['loadFile(getInstallationDirectoryPath() + \"/share/doc/omc/testmodels/Disinfection.mo\")',\n",
       " 'simulate(Disinfection)',\n",
       " 'plot(der(C))']"
      ]
     },
     "execution_count": 9,
     "metadata": {},
     "output_type": "execute_result"
    }
   ],
   "source": [
    "cmds"
   ]
  },
  {
   "cell_type": "code",
   "execution_count": 10,
   "metadata": {},
   "outputs": [
    {
     "name": "stdout",
     "output_type": "stream",
     "text": [
      "\n",
      "loadFile(getInstallationDirectoryPath() + \"/share/doc/omc/testmodels/Disinfection.mo\"):\n",
      "True\n",
      "\n",
      "simulate(Disinfection):\n",
      "{'resultFile': 'C:/Users/uapug/Disinfection_res.mat', 'simulationOptions': \"startTime = 0.0, stopTime = 1.0, numberOfIntervals = 500, tolerance = 1e-006, method = 'dassl', fileNamePrefix = 'Disinfection', options = '', outputFormat = 'mat', variableFilter = '.*', cflags = '', simflags = ''\", 'messages': 'LOG_SUCCESS       | info    | The initialization finished successfully without homotopy method.\\nLOG_SUCCESS       | info    | The simulation finished successfully.\\n', 'timeFrontend': 0.5812588, 'timeBackend': 0.0307314, 'timeSimCode': 0.0077575, 'timeTemplates': 0.1028909, 'timeCompile': 20.023261, 'timeSimulation': 0.4689131, 'timeTotal': 21.2181127}\n",
      "\n",
      "plot(der(C)):\n",
      "True\n"
     ]
    }
   ],
   "source": [
    "for cmd in cmds:\n",
    "    answer = omc.sendExpression(cmd)\n",
    "    print(\"\\n{}:\\n{}\".format(cmd, answer))"
   ]
  },
  {
   "cell_type": "code",
   "execution_count": 2,
   "metadata": {},
   "outputs": [
    {
     "data": {
      "text/html": [
       "<div>\n",
       "<style scoped>\n",
       "    .dataframe tbody tr th:only-of-type {\n",
       "        vertical-align: middle;\n",
       "    }\n",
       "\n",
       "    .dataframe tbody tr th {\n",
       "        vertical-align: top;\n",
       "    }\n",
       "\n",
       "    .dataframe thead th {\n",
       "        text-align: right;\n",
       "    }\n",
       "</style>\n",
       "<table border=\"1\" class=\"dataframe\">\n",
       "  <thead>\n",
       "    <tr style=\"text-align: right;\">\n",
       "      <th></th>\n",
       "      <th>Datetime</th>\n",
       "      <th>Reg/Trx</th>\n",
       "      <th>Meas</th>\n",
       "      <th>Label</th>\n",
       "      <th>T comp. ° F</th>\n",
       "      <th>Reg. out</th>\n",
       "      <th>Reg/Trx.1</th>\n",
       "      <th>Cl_level</th>\n",
       "      <th>Label.1</th>\n",
       "      <th>T comp. ° F.1</th>\n",
       "      <th>Reg. out.1</th>\n",
       "      <th>Reg/Trx.2</th>\n",
       "      <th>PH_level</th>\n",
       "      <th>Label.2</th>\n",
       "      <th>T comp. ° F.2</th>\n",
       "      <th>Reg. out.2</th>\n",
       "      <th>Mode</th>\n",
       "      <th>Value</th>\n",
       "      <th>Raw</th>\n",
       "    </tr>\n",
       "  </thead>\n",
       "  <tbody>\n",
       "    <tr>\n",
       "      <th>0</th>\n",
       "      <td>2019-01-03 14:23:00</td>\n",
       "      <td>T</td>\n",
       "      <td>1.558</td>\n",
       "      <td>ppm Free Cl2</td>\n",
       "      <td>--</td>\n",
       "      <td>--</td>\n",
       "      <td>T</td>\n",
       "      <td>2.091</td>\n",
       "      <td>ppm Free Cl2</td>\n",
       "      <td>--</td>\n",
       "      <td>--</td>\n",
       "      <td>T</td>\n",
       "      <td>7.000</td>\n",
       "      <td>pH</td>\n",
       "      <td>48.5</td>\n",
       "      <td>--</td>\n",
       "      <td>M</td>\n",
       "      <td>0</td>\n",
       "      <td>0</td>\n",
       "    </tr>\n",
       "    <tr>\n",
       "      <th>1</th>\n",
       "      <td>2019-01-03 14:22:00</td>\n",
       "      <td>T</td>\n",
       "      <td>1.558</td>\n",
       "      <td>ppm Free Cl2</td>\n",
       "      <td>--</td>\n",
       "      <td>--</td>\n",
       "      <td>T</td>\n",
       "      <td>2.087</td>\n",
       "      <td>ppm Free Cl2</td>\n",
       "      <td>--</td>\n",
       "      <td>--</td>\n",
       "      <td>T</td>\n",
       "      <td>6.999</td>\n",
       "      <td>pH</td>\n",
       "      <td>48.5</td>\n",
       "      <td>--</td>\n",
       "      <td>M</td>\n",
       "      <td>0</td>\n",
       "      <td>0</td>\n",
       "    </tr>\n",
       "    <tr>\n",
       "      <th>2</th>\n",
       "      <td>2019-01-03 14:21:00</td>\n",
       "      <td>T</td>\n",
       "      <td>1.559</td>\n",
       "      <td>ppm Free Cl2</td>\n",
       "      <td>--</td>\n",
       "      <td>--</td>\n",
       "      <td>T</td>\n",
       "      <td>2.086</td>\n",
       "      <td>ppm Free Cl2</td>\n",
       "      <td>--</td>\n",
       "      <td>--</td>\n",
       "      <td>T</td>\n",
       "      <td>6.999</td>\n",
       "      <td>pH</td>\n",
       "      <td>48.5</td>\n",
       "      <td>--</td>\n",
       "      <td>M</td>\n",
       "      <td>0</td>\n",
       "      <td>0</td>\n",
       "    </tr>\n",
       "    <tr>\n",
       "      <th>3</th>\n",
       "      <td>2019-01-03 14:20:00</td>\n",
       "      <td>T</td>\n",
       "      <td>1.558</td>\n",
       "      <td>ppm Free Cl2</td>\n",
       "      <td>--</td>\n",
       "      <td>--</td>\n",
       "      <td>T</td>\n",
       "      <td>2.081</td>\n",
       "      <td>ppm Free Cl2</td>\n",
       "      <td>--</td>\n",
       "      <td>--</td>\n",
       "      <td>T</td>\n",
       "      <td>6.999</td>\n",
       "      <td>pH</td>\n",
       "      <td>48.5</td>\n",
       "      <td>--</td>\n",
       "      <td>M</td>\n",
       "      <td>0</td>\n",
       "      <td>0</td>\n",
       "    </tr>\n",
       "    <tr>\n",
       "      <th>4</th>\n",
       "      <td>2019-01-03 14:19:00</td>\n",
       "      <td>T</td>\n",
       "      <td>1.558</td>\n",
       "      <td>ppm Free Cl2</td>\n",
       "      <td>--</td>\n",
       "      <td>--</td>\n",
       "      <td>T</td>\n",
       "      <td>2.072</td>\n",
       "      <td>ppm Free Cl2</td>\n",
       "      <td>--</td>\n",
       "      <td>--</td>\n",
       "      <td>T</td>\n",
       "      <td>6.999</td>\n",
       "      <td>pH</td>\n",
       "      <td>48.5</td>\n",
       "      <td>--</td>\n",
       "      <td>M</td>\n",
       "      <td>0</td>\n",
       "      <td>0</td>\n",
       "    </tr>\n",
       "    <tr>\n",
       "      <th>5</th>\n",
       "      <td>2019-01-03 14:18:00</td>\n",
       "      <td>T</td>\n",
       "      <td>1.560</td>\n",
       "      <td>ppm Free Cl2</td>\n",
       "      <td>--</td>\n",
       "      <td>--</td>\n",
       "      <td>T</td>\n",
       "      <td>2.063</td>\n",
       "      <td>ppm Free Cl2</td>\n",
       "      <td>--</td>\n",
       "      <td>--</td>\n",
       "      <td>T</td>\n",
       "      <td>6.999</td>\n",
       "      <td>pH</td>\n",
       "      <td>48.5</td>\n",
       "      <td>--</td>\n",
       "      <td>M</td>\n",
       "      <td>0</td>\n",
       "      <td>0</td>\n",
       "    </tr>\n",
       "    <tr>\n",
       "      <th>6</th>\n",
       "      <td>2019-01-03 14:17:00</td>\n",
       "      <td>T</td>\n",
       "      <td>1.559</td>\n",
       "      <td>ppm Free Cl2</td>\n",
       "      <td>--</td>\n",
       "      <td>--</td>\n",
       "      <td>T</td>\n",
       "      <td>2.062</td>\n",
       "      <td>ppm Free Cl2</td>\n",
       "      <td>--</td>\n",
       "      <td>--</td>\n",
       "      <td>T</td>\n",
       "      <td>6.999</td>\n",
       "      <td>pH</td>\n",
       "      <td>48.5</td>\n",
       "      <td>--</td>\n",
       "      <td>M</td>\n",
       "      <td>0</td>\n",
       "      <td>0</td>\n",
       "    </tr>\n",
       "    <tr>\n",
       "      <th>7</th>\n",
       "      <td>2019-01-03 14:16:00</td>\n",
       "      <td>T</td>\n",
       "      <td>1.558</td>\n",
       "      <td>ppm Free Cl2</td>\n",
       "      <td>--</td>\n",
       "      <td>--</td>\n",
       "      <td>T</td>\n",
       "      <td>2.061</td>\n",
       "      <td>ppm Free Cl2</td>\n",
       "      <td>--</td>\n",
       "      <td>--</td>\n",
       "      <td>T</td>\n",
       "      <td>6.999</td>\n",
       "      <td>pH</td>\n",
       "      <td>48.5</td>\n",
       "      <td>--</td>\n",
       "      <td>M</td>\n",
       "      <td>0</td>\n",
       "      <td>0</td>\n",
       "    </tr>\n",
       "    <tr>\n",
       "      <th>8</th>\n",
       "      <td>2019-01-03 14:15:00</td>\n",
       "      <td>T</td>\n",
       "      <td>1.559</td>\n",
       "      <td>ppm Free Cl2</td>\n",
       "      <td>--</td>\n",
       "      <td>--</td>\n",
       "      <td>T</td>\n",
       "      <td>2.062</td>\n",
       "      <td>ppm Free Cl2</td>\n",
       "      <td>--</td>\n",
       "      <td>--</td>\n",
       "      <td>T</td>\n",
       "      <td>6.999</td>\n",
       "      <td>pH</td>\n",
       "      <td>48.5</td>\n",
       "      <td>--</td>\n",
       "      <td>M</td>\n",
       "      <td>0</td>\n",
       "      <td>0</td>\n",
       "    </tr>\n",
       "    <tr>\n",
       "      <th>9</th>\n",
       "      <td>2019-01-03 14:14:00</td>\n",
       "      <td>T</td>\n",
       "      <td>1.559</td>\n",
       "      <td>ppm Free Cl2</td>\n",
       "      <td>--</td>\n",
       "      <td>--</td>\n",
       "      <td>T</td>\n",
       "      <td>2.068</td>\n",
       "      <td>ppm Free Cl2</td>\n",
       "      <td>--</td>\n",
       "      <td>--</td>\n",
       "      <td>T</td>\n",
       "      <td>6.999</td>\n",
       "      <td>pH</td>\n",
       "      <td>48.5</td>\n",
       "      <td>--</td>\n",
       "      <td>M</td>\n",
       "      <td>0</td>\n",
       "      <td>0</td>\n",
       "    </tr>\n",
       "  </tbody>\n",
       "</table>\n",
       "</div>"
      ],
      "text/plain": [
       "             Datetime Reg/Trx   Meas         Label T comp. ° F Reg. out  \\\n",
       "0 2019-01-03 14:23:00       T  1.558  ppm Free Cl2          --       --   \n",
       "1 2019-01-03 14:22:00       T  1.558  ppm Free Cl2          --       --   \n",
       "2 2019-01-03 14:21:00       T  1.559  ppm Free Cl2          --       --   \n",
       "3 2019-01-03 14:20:00       T  1.558  ppm Free Cl2          --       --   \n",
       "4 2019-01-03 14:19:00       T  1.558  ppm Free Cl2          --       --   \n",
       "5 2019-01-03 14:18:00       T  1.560  ppm Free Cl2          --       --   \n",
       "6 2019-01-03 14:17:00       T  1.559  ppm Free Cl2          --       --   \n",
       "7 2019-01-03 14:16:00       T  1.558  ppm Free Cl2          --       --   \n",
       "8 2019-01-03 14:15:00       T  1.559  ppm Free Cl2          --       --   \n",
       "9 2019-01-03 14:14:00       T  1.559  ppm Free Cl2          --       --   \n",
       "\n",
       "  Reg/Trx.1  Cl_level       Label.1 T comp. ° F.1 Reg. out.1 Reg/Trx.2  \\\n",
       "0         T     2.091  ppm Free Cl2            --         --         T   \n",
       "1         T     2.087  ppm Free Cl2            --         --         T   \n",
       "2         T     2.086  ppm Free Cl2            --         --         T   \n",
       "3         T     2.081  ppm Free Cl2            --         --         T   \n",
       "4         T     2.072  ppm Free Cl2            --         --         T   \n",
       "5         T     2.063  ppm Free Cl2            --         --         T   \n",
       "6         T     2.062  ppm Free Cl2            --         --         T   \n",
       "7         T     2.061  ppm Free Cl2            --         --         T   \n",
       "8         T     2.062  ppm Free Cl2            --         --         T   \n",
       "9         T     2.068  ppm Free Cl2            --         --         T   \n",
       "\n",
       "   PH_level Label.2  T comp. ° F.2 Reg. out.2 Mode  Value  Raw  \n",
       "0     7.000      pH           48.5         --    M      0    0  \n",
       "1     6.999      pH           48.5         --    M      0    0  \n",
       "2     6.999      pH           48.5         --    M      0    0  \n",
       "3     6.999      pH           48.5         --    M      0    0  \n",
       "4     6.999      pH           48.5         --    M      0    0  \n",
       "5     6.999      pH           48.5         --    M      0    0  \n",
       "6     6.999      pH           48.5         --    M      0    0  \n",
       "7     6.999      pH           48.5         --    M      0    0  \n",
       "8     6.999      pH           48.5         --    M      0    0  \n",
       "9     6.999      pH           48.5         --    M      0    0  "
      ]
     },
     "execution_count": 2,
     "metadata": {},
     "output_type": "execute_result"
    }
   ],
   "source": [
    "import pandas as pd\n",
    "\n",
    "df = pd.read_excel(\"Sample Data BT free 20190103.xlsx\", skiprows=26)\n",
    "df.head(10)\n"
   ]
  },
  {
   "cell_type": "code",
   "execution_count": 3,
   "metadata": {},
   "outputs": [
    {
     "data": {
      "image/png": "[encoded data removed]",
      "text/plain": [
       "<Figure size 432x288 with 1 Axes>"
      ]
     },
     "metadata": {
      "needs_background": "light"
     },
     "output_type": "display_data"
    }
   ],
   "source": [
    "from matplotlib import pyplot as plt\n",
    "plt.scatter(df[\"Datetime\"],df[\"Cl_level\"])\n",
    "plt.show()"
   ]
  },
  {
   "cell_type": "code",
   "execution_count": null,
   "metadata": {},
   "outputs": [],
   "source": []
  }
 ],
 "metadata": {
  "kernelspec": {
   "display_name": "Python 3",
   "language": "python",
   "name": "python3"
  },
  "language_info": {
   "codemirror_mode": {
    "name": "ipython",
    "version": 3
   },
   "file_extension": ".py",
   "mimetype": "text/x-python",
   "name": "python",
   "nbconvert_exporter": "python",
   "pygments_lexer": "ipython3",
   "version": "3.7.6"
  }
 },
 "nbformat": 4,
 "nbformat_minor": 4
}
