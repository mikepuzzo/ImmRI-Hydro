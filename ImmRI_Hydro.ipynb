{
 "cells": [
  {
   "cell_type": "code",
   "execution_count": 63,
   "metadata": {},
   "outputs": [
    {
     "data": {
      "text/html": [
       "<div>\n",
       "<style scoped>\n",
       "    .dataframe tbody tr th:only-of-type {\n",
       "        vertical-align: middle;\n",
       "    }\n",
       "\n",
       "    .dataframe tbody tr th {\n",
       "        vertical-align: top;\n",
       "    }\n",
       "\n",
       "    .dataframe thead th {\n",
       "        text-align: right;\n",
       "    }\n",
       "</style>\n",
       "<table border=\"1\" class=\"dataframe\">\n",
       "  <thead>\n",
       "    <tr style=\"text-align: right;\">\n",
       "      <th></th>\n",
       "      <th>Datetime</th>\n",
       "      <th>Reg/Trx</th>\n",
       "      <th>Temp</th>\n",
       "      <th>Label</th>\n",
       "      <th>T comp. ° F</th>\n",
       "      <th>Reg. out</th>\n",
       "      <th>Reg/Trx.1</th>\n",
       "      <th>chlorine</th>\n",
       "      <th>Label.1</th>\n",
       "      <th>T comp. ° F.1</th>\n",
       "      <th>Reg. out.1</th>\n",
       "      <th>Reg/Trx.2</th>\n",
       "      <th>PH_level</th>\n",
       "      <th>Label.2</th>\n",
       "      <th>T comp. ° F.2</th>\n",
       "      <th>Reg. out.2</th>\n",
       "      <th>Mode</th>\n",
       "      <th>Value</th>\n",
       "      <th>Raw</th>\n",
       "    </tr>\n",
       "  </thead>\n",
       "  <tbody>\n",
       "    <tr>\n",
       "      <th>0</th>\n",
       "      <td>2018-12-04 12:44:00</td>\n",
       "      <td>T</td>\n",
       "      <td>1.556</td>\n",
       "      <td>ppm Free Cl2</td>\n",
       "      <td>--</td>\n",
       "      <td>--</td>\n",
       "      <td>T</td>\n",
       "      <td>2.205</td>\n",
       "      <td>ppm Free Cl2</td>\n",
       "      <td>--</td>\n",
       "      <td>--</td>\n",
       "      <td>T</td>\n",
       "      <td>6.999</td>\n",
       "      <td>pH</td>\n",
       "      <td>51.1</td>\n",
       "      <td>--</td>\n",
       "      <td>M</td>\n",
       "      <td>0</td>\n",
       "      <td>0</td>\n",
       "    </tr>\n",
       "    <tr>\n",
       "      <th>1</th>\n",
       "      <td>2018-12-04 12:45:00</td>\n",
       "      <td>T</td>\n",
       "      <td>1.554</td>\n",
       "      <td>ppm Free Cl2</td>\n",
       "      <td>--</td>\n",
       "      <td>--</td>\n",
       "      <td>T</td>\n",
       "      <td>2.207</td>\n",
       "      <td>ppm Free Cl2</td>\n",
       "      <td>--</td>\n",
       "      <td>--</td>\n",
       "      <td>T</td>\n",
       "      <td>6.999</td>\n",
       "      <td>pH</td>\n",
       "      <td>51.0</td>\n",
       "      <td>--</td>\n",
       "      <td>M</td>\n",
       "      <td>0</td>\n",
       "      <td>0</td>\n",
       "    </tr>\n",
       "    <tr>\n",
       "      <th>2</th>\n",
       "      <td>2018-12-04 12:46:00</td>\n",
       "      <td>T</td>\n",
       "      <td>1.554</td>\n",
       "      <td>ppm Free Cl2</td>\n",
       "      <td>--</td>\n",
       "      <td>--</td>\n",
       "      <td>T</td>\n",
       "      <td>2.211</td>\n",
       "      <td>ppm Free Cl2</td>\n",
       "      <td>--</td>\n",
       "      <td>--</td>\n",
       "      <td>T</td>\n",
       "      <td>6.999</td>\n",
       "      <td>pH</td>\n",
       "      <td>51.0</td>\n",
       "      <td>--</td>\n",
       "      <td>M</td>\n",
       "      <td>0</td>\n",
       "      <td>0</td>\n",
       "    </tr>\n",
       "    <tr>\n",
       "      <th>3</th>\n",
       "      <td>2018-12-04 12:47:00</td>\n",
       "      <td>T</td>\n",
       "      <td>1.552</td>\n",
       "      <td>ppm Free Cl2</td>\n",
       "      <td>--</td>\n",
       "      <td>--</td>\n",
       "      <td>T</td>\n",
       "      <td>2.207</td>\n",
       "      <td>ppm Free Cl2</td>\n",
       "      <td>--</td>\n",
       "      <td>--</td>\n",
       "      <td>T</td>\n",
       "      <td>6.999</td>\n",
       "      <td>pH</td>\n",
       "      <td>51.0</td>\n",
       "      <td>--</td>\n",
       "      <td>M</td>\n",
       "      <td>0</td>\n",
       "      <td>0</td>\n",
       "    </tr>\n",
       "    <tr>\n",
       "      <th>4</th>\n",
       "      <td>2018-12-04 12:48:00</td>\n",
       "      <td>T</td>\n",
       "      <td>1.550</td>\n",
       "      <td>ppm Free Cl2</td>\n",
       "      <td>--</td>\n",
       "      <td>--</td>\n",
       "      <td>T</td>\n",
       "      <td>2.201</td>\n",
       "      <td>ppm Free Cl2</td>\n",
       "      <td>--</td>\n",
       "      <td>--</td>\n",
       "      <td>T</td>\n",
       "      <td>6.999</td>\n",
       "      <td>pH</td>\n",
       "      <td>50.9</td>\n",
       "      <td>--</td>\n",
       "      <td>M</td>\n",
       "      <td>0</td>\n",
       "      <td>0</td>\n",
       "    </tr>\n",
       "  </tbody>\n",
       "</table>\n",
       "</div>"
      ],
      "text/plain": [
       "             Datetime Reg/Trx   Temp         Label T comp. ° F Reg. out  \\\n",
       "0 2018-12-04 12:44:00       T  1.556  ppm Free Cl2          --       --   \n",
       "1 2018-12-04 12:45:00       T  1.554  ppm Free Cl2          --       --   \n",
       "2 2018-12-04 12:46:00       T  1.554  ppm Free Cl2          --       --   \n",
       "3 2018-12-04 12:47:00       T  1.552  ppm Free Cl2          --       --   \n",
       "4 2018-12-04 12:48:00       T  1.550  ppm Free Cl2          --       --   \n",
       "\n",
       "  Reg/Trx.1  chlorine       Label.1 T comp. ° F.1 Reg. out.1 Reg/Trx.2  \\\n",
       "0         T     2.205  ppm Free Cl2            --         --         T   \n",
       "1         T     2.207  ppm Free Cl2            --         --         T   \n",
       "2         T     2.211  ppm Free Cl2            --         --         T   \n",
       "3         T     2.207  ppm Free Cl2            --         --         T   \n",
       "4         T     2.201  ppm Free Cl2            --         --         T   \n",
       "\n",
       "   PH_level Label.2  T comp. ° F.2 Reg. out.2 Mode  Value  Raw  \n",
       "0     6.999      pH           51.1         --    M      0    0  \n",
       "1     6.999      pH           51.0         --    M      0    0  \n",
       "2     6.999      pH           51.0         --    M      0    0  \n",
       "3     6.999      pH           51.0         --    M      0    0  \n",
       "4     6.999      pH           50.9         --    M      0    0  "
      ]
     },
     "execution_count": 63,
     "metadata": {},
     "output_type": "execute_result"
    }
   ],
   "source": [
    "#Importing all Necessary Libraries\n",
    "\n",
    "import pandas as pd \n",
    "from matplotlib import pyplot as plt\n",
    "import datetime\n",
    "import scipy.stats as stats\n",
    "from sklearn.metrics import mean_absolute_error\n",
    "import numpy as np\n",
    "from fbprophet import Prophet\n",
    "df = pd.read_excel(\"Sample Data BT free 2019010.xlsx\")\n",
    "df.head(5)\n"
   ]
  },
  {
   "cell_type": "code",
   "execution_count": 84,
   "metadata": {},
   "outputs": [
    {
     "data": {
      "text/plain": [
       "0.5329792068742414"
      ]
     },
     "execution_count": 84,
     "metadata": {},
     "output_type": "execute_result"
    }
   ],
   "source": [
    "#Corrolation between Temperature and Chlorine Levels\n",
    "(corr,pval) = stats.pearsonr(df[\"Temp\"], df[\"chlorine\"])\n",
    "corr"
   ]
  },
  {
   "cell_type": "code",
   "execution_count": 64,
   "metadata": {},
   "outputs": [
    {
     "data": {
      "text/html": [
       "<div>\n",
       "<style scoped>\n",
       "    .dataframe tbody tr th:only-of-type {\n",
       "        vertical-align: middle;\n",
       "    }\n",
       "\n",
       "    .dataframe tbody tr th {\n",
       "        vertical-align: top;\n",
       "    }\n",
       "\n",
       "    .dataframe thead th {\n",
       "        text-align: right;\n",
       "    }\n",
       "</style>\n",
       "<table border=\"1\" class=\"dataframe\">\n",
       "  <thead>\n",
       "    <tr style=\"text-align: right;\">\n",
       "      <th></th>\n",
       "      <th>Datetime</th>\n",
       "      <th>Reg/Trx</th>\n",
       "      <th>Temp</th>\n",
       "      <th>Label</th>\n",
       "      <th>T comp. ° F</th>\n",
       "      <th>Reg. out</th>\n",
       "      <th>Reg/Trx.1</th>\n",
       "      <th>chlorine</th>\n",
       "      <th>Label.1</th>\n",
       "      <th>T comp. ° F.1</th>\n",
       "      <th>...</th>\n",
       "      <th>Reg/Trx.2</th>\n",
       "      <th>PH_level</th>\n",
       "      <th>Label.2</th>\n",
       "      <th>T comp. ° F.2</th>\n",
       "      <th>Reg. out.2</th>\n",
       "      <th>Mode</th>\n",
       "      <th>Value</th>\n",
       "      <th>Raw</th>\n",
       "      <th>Date</th>\n",
       "      <th>Time</th>\n",
       "    </tr>\n",
       "  </thead>\n",
       "  <tbody>\n",
       "    <tr>\n",
       "      <th>0</th>\n",
       "      <td>2018-12-04 12:44:00</td>\n",
       "      <td>T</td>\n",
       "      <td>1.556</td>\n",
       "      <td>ppm Free Cl2</td>\n",
       "      <td>--</td>\n",
       "      <td>--</td>\n",
       "      <td>T</td>\n",
       "      <td>2.205</td>\n",
       "      <td>ppm Free Cl2</td>\n",
       "      <td>--</td>\n",
       "      <td>...</td>\n",
       "      <td>T</td>\n",
       "      <td>6.999</td>\n",
       "      <td>pH</td>\n",
       "      <td>51.1</td>\n",
       "      <td>--</td>\n",
       "      <td>M</td>\n",
       "      <td>0</td>\n",
       "      <td>0</td>\n",
       "      <td>2018-12-04</td>\n",
       "      <td>12:44:00</td>\n",
       "    </tr>\n",
       "    <tr>\n",
       "      <th>1</th>\n",
       "      <td>2018-12-04 12:45:00</td>\n",
       "      <td>T</td>\n",
       "      <td>1.554</td>\n",
       "      <td>ppm Free Cl2</td>\n",
       "      <td>--</td>\n",
       "      <td>--</td>\n",
       "      <td>T</td>\n",
       "      <td>2.207</td>\n",
       "      <td>ppm Free Cl2</td>\n",
       "      <td>--</td>\n",
       "      <td>...</td>\n",
       "      <td>T</td>\n",
       "      <td>6.999</td>\n",
       "      <td>pH</td>\n",
       "      <td>51.0</td>\n",
       "      <td>--</td>\n",
       "      <td>M</td>\n",
       "      <td>0</td>\n",
       "      <td>0</td>\n",
       "      <td>2018-12-04</td>\n",
       "      <td>12:45:00</td>\n",
       "    </tr>\n",
       "    <tr>\n",
       "      <th>2</th>\n",
       "      <td>2018-12-04 12:46:00</td>\n",
       "      <td>T</td>\n",
       "      <td>1.554</td>\n",
       "      <td>ppm Free Cl2</td>\n",
       "      <td>--</td>\n",
       "      <td>--</td>\n",
       "      <td>T</td>\n",
       "      <td>2.211</td>\n",
       "      <td>ppm Free Cl2</td>\n",
       "      <td>--</td>\n",
       "      <td>...</td>\n",
       "      <td>T</td>\n",
       "      <td>6.999</td>\n",
       "      <td>pH</td>\n",
       "      <td>51.0</td>\n",
       "      <td>--</td>\n",
       "      <td>M</td>\n",
       "      <td>0</td>\n",
       "      <td>0</td>\n",
       "      <td>2018-12-04</td>\n",
       "      <td>12:46:00</td>\n",
       "    </tr>\n",
       "    <tr>\n",
       "      <th>3</th>\n",
       "      <td>2018-12-04 12:47:00</td>\n",
       "      <td>T</td>\n",
       "      <td>1.552</td>\n",
       "      <td>ppm Free Cl2</td>\n",
       "      <td>--</td>\n",
       "      <td>--</td>\n",
       "      <td>T</td>\n",
       "      <td>2.207</td>\n",
       "      <td>ppm Free Cl2</td>\n",
       "      <td>--</td>\n",
       "      <td>...</td>\n",
       "      <td>T</td>\n",
       "      <td>6.999</td>\n",
       "      <td>pH</td>\n",
       "      <td>51.0</td>\n",
       "      <td>--</td>\n",
       "      <td>M</td>\n",
       "      <td>0</td>\n",
       "      <td>0</td>\n",
       "      <td>2018-12-04</td>\n",
       "      <td>12:47:00</td>\n",
       "    </tr>\n",
       "    <tr>\n",
       "      <th>4</th>\n",
       "      <td>2018-12-04 12:48:00</td>\n",
       "      <td>T</td>\n",
       "      <td>1.550</td>\n",
       "      <td>ppm Free Cl2</td>\n",
       "      <td>--</td>\n",
       "      <td>--</td>\n",
       "      <td>T</td>\n",
       "      <td>2.201</td>\n",
       "      <td>ppm Free Cl2</td>\n",
       "      <td>--</td>\n",
       "      <td>...</td>\n",
       "      <td>T</td>\n",
       "      <td>6.999</td>\n",
       "      <td>pH</td>\n",
       "      <td>50.9</td>\n",
       "      <td>--</td>\n",
       "      <td>M</td>\n",
       "      <td>0</td>\n",
       "      <td>0</td>\n",
       "      <td>2018-12-04</td>\n",
       "      <td>12:48:00</td>\n",
       "    </tr>\n",
       "  </tbody>\n",
       "</table>\n",
       "<p>5 rows × 21 columns</p>\n",
       "</div>"
      ],
      "text/plain": [
       "             Datetime Reg/Trx   Temp         Label T comp. ° F Reg. out  \\\n",
       "0 2018-12-04 12:44:00       T  1.556  ppm Free Cl2          --       --   \n",
       "1 2018-12-04 12:45:00       T  1.554  ppm Free Cl2          --       --   \n",
       "2 2018-12-04 12:46:00       T  1.554  ppm Free Cl2          --       --   \n",
       "3 2018-12-04 12:47:00       T  1.552  ppm Free Cl2          --       --   \n",
       "4 2018-12-04 12:48:00       T  1.550  ppm Free Cl2          --       --   \n",
       "\n",
       "  Reg/Trx.1  chlorine       Label.1 T comp. ° F.1  ... Reg/Trx.2 PH_level  \\\n",
       "0         T     2.205  ppm Free Cl2            --  ...         T    6.999   \n",
       "1         T     2.207  ppm Free Cl2            --  ...         T    6.999   \n",
       "2         T     2.211  ppm Free Cl2            --  ...         T    6.999   \n",
       "3         T     2.207  ppm Free Cl2            --  ...         T    6.999   \n",
       "4         T     2.201  ppm Free Cl2            --  ...         T    6.999   \n",
       "\n",
       "   Label.2 T comp. ° F.2  Reg. out.2 Mode Value  Raw        Date      Time  \n",
       "0       pH          51.1          --    M     0    0  2018-12-04  12:44:00  \n",
       "1       pH          51.0          --    M     0    0  2018-12-04  12:45:00  \n",
       "2       pH          51.0          --    M     0    0  2018-12-04  12:46:00  \n",
       "3       pH          51.0          --    M     0    0  2018-12-04  12:47:00  \n",
       "4       pH          50.9          --    M     0    0  2018-12-04  12:48:00  \n",
       "\n",
       "[5 rows x 21 columns]"
      ]
     },
     "execution_count": 64,
     "metadata": {},
     "output_type": "execute_result"
    }
   ],
   "source": [
    "#Created new columns for Date and Time\n",
    "df[\"Date\"]=[d.date() for d in df['Datetime']]\n",
    "df['Time'] = [d.time() for d in df['Datetime']]\n",
    "df[\"Date\"] = df[\"Date\"].astype(str)\n",
    "df.head(5)"
   ]
  },
  {
   "cell_type": "code",
   "execution_count": 65,
   "metadata": {},
   "outputs": [
    {
     "name": "stderr",
     "output_type": "stream",
     "text": [
      "INFO:matplotlib.category:Using categorical units to plot a list of strings that are all parsable as floats or dates. If these strings should be plotted as numbers, cast to the appropriate data type before plotting.\n",
      "INFO:matplotlib.category:Using categorical units to plot a list of strings that are all parsable as floats or dates. If these strings should be plotted as numbers, cast to the appropriate data type before plotting.\n"
     ]
    },
    {
     "data": {
      "image/png": "[encoded data removed]",
      "text/plain": [
       "<Figure size 432x288 with 1 Axes>"
      ]
     },
     "metadata": {
      "needs_background": "light"
     },
     "output_type": "display_data"
    }
   ],
   "source": [
    "#Visualization of Chorine level as a function of Day with the upper concentration and lower concentration of chlorine per day\n",
    "plt.plot(df[\"Date\"],df[\"chlorine\"])\n",
    "plt.gcf().autofmt_xdate()\n",
    "plt.xticks(rotation=90)\n",
    "plt.rcParams['xtick.labelsize']=10\n",
    "plt.show()"
   ]
  },
  {
   "cell_type": "code",
   "execution_count": 66,
   "metadata": {},
   "outputs": [
    {
     "name": "stderr",
     "output_type": "stream",
     "text": [
      "INFO:fbprophet:Disabling yearly seasonality. Run prophet with yearly_seasonality=True to override this.\n"
     ]
    },
    {
     "data": {
      "text/plain": [
       "<fbprophet.forecaster.Prophet at 0x17c729ed2c8>"
      ]
     },
     "execution_count": 66,
     "metadata": {},
     "output_type": "execute_result"
    }
   ],
   "source": [
    "# Training and fitting our Model with the top 30000 rows\n",
    "df1 = df[[\"Datetime\",\"chlorine\"]]\n",
    "df1 = df1.rename(columns={'Datetime': 'ds',\"chlorine\":\"y\"})\n",
    "df1[\"ds\"] =pd.to_datetime(df1[\"ds\"])\n",
    "train = df1.drop(df1.index[-10080:])\n",
    "model = Prophet()\n",
    "model.fit(train)\n",
    "\n"
   ]
  },
  {
   "cell_type": "code",
   "execution_count": 67,
   "metadata": {},
   "outputs": [],
   "source": [
    "# Testing Our model with the bottom 10000 rows\n",
    "test = df1.drop(df1.index[:-10080])\n",
    "test_X = test[\"ds\"]\n",
    "test_X = pd.DataFrame(test_X)\n",
    "forcast = model.predict(test_X)\n",
    "\n",
    "    "
   ]
  },
  {
   "cell_type": "code",
   "execution_count": 74,
   "metadata": {},
   "outputs": [
    {
     "data": {
      "text/plain": [
       "10080"
      ]
     },
     "execution_count": 74,
     "metadata": {},
     "output_type": "execute_result"
    }
   ],
   "source": [
    "y_pred = forcast[\"yhat\"].values\n",
    "y_true = test[\"y\"].values\n"
   ]
  },
  {
   "cell_type": "code",
   "execution_count": 71,
   "metadata": {},
   "outputs": [
    {
     "name": "stdout",
     "output_type": "stream",
     "text": [
      "MAE: 0.123\n"
     ]
    }
   ],
   "source": [
    "#Evaluating our model with scikit learn mean_square_method, a mean square of below 20 percent is a good eve\n",
    "mae = mean_absolute_error(y_true, y_pred)\n",
    "print('MAE: %.3f' % mae)"
   ]
  },
  {
   "cell_type": "code",
   "execution_count": 82,
   "metadata": {},
   "outputs": [
    {
     "data": {
      "image/png": "[encoded data removed]",
      "text/plain": [
       "<Figure size 432x288 with 1 Axes>"
      ]
     },
     "metadata": {
      "needs_background": "light"
     },
     "output_type": "display_data"
    }
   ],
   "source": [
    "test_X.astype(str)\n",
    "fig,ax = plt.subplots()\n",
    "ax.plot(test_X,y_true,color=\"b\",label=\"Actual\")\n",
    "ax.set_xlabel(\"day_time\")\n",
    "ax.plot(test_X,y_pred,color=\"r\",label=\"Predicted\")\n",
    "plt.xticks(rotation=90)\n",
    "plt.legend()\n",
    "plt.show()"
   ]
  }
 ],
 "metadata": {
  "kernelspec": {
   "display_name": "Python 3",
   "language": "python",
   "name": "python3"
  },
  "language_info": {
   "codemirror_mode": {
    "name": "ipython",
    "version": 3
   },
   "file_extension": ".py",
   "mimetype": "text/x-python",
   "name": "python",
   "nbconvert_exporter": "python",
   "pygments_lexer": "ipython3",
   "version": "3.7.6"
  }
 },
 "nbformat": 4,
 "nbformat_minor": 4
}
